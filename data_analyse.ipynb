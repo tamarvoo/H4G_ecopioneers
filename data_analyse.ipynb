{
 "cells": [
  {
   "metadata": {},
   "cell_type": "code",
   "outputs": [],
   "execution_count": null,
   "source": [
    "import pandas as pd\n",
    "\n",
    "# Load the CSV file\n",
    "df = pd.read_csv(r\"C:\\Users\\tvooijs\\OneDrive - Deloitte (O365D)\\Documents\\RD&A\\80783ned_UntypedDataSet_02022025_111359.csv\")"
   ],
   "id": "59fff7652c9b28ad"
  },
  {
   "metadata": {},
   "cell_type": "code",
   "outputs": [],
   "execution_count": null,
   "source": [
    "# Show the first few rows of the data to inspect it\n",
    "print(df.head())\n",
    "\n",
    "# Basic analysis of the 'Braak_020' column\n",
    "braak_020_stats = df['Braak_020'].describe()\n",
    "print(\"Statistics for 'Braak_020':\")\n",
    "print(braak_020_stats)"
   ],
   "id": "8c92fdde0801c50e"
  },
  {
   "metadata": {},
   "cell_type": "code",
   "outputs": [],
   "execution_count": null,
   "source": [
    "# Analysis of the 'RegioS' column (e.g., value counts)\n",
    "regioS_counts = df['RegioS'].value_counts()\n",
    "print(\"\\nCounts for 'RegioS':\")\n",
    "print(regioS_counts)"
   ],
   "id": "bbd808d02c8a0d95"
  },
  {
   "metadata": {},
   "cell_type": "code",
   "outputs": [],
   "execution_count": null,
   "source": [
    "# If you want to see if there is a relationship between 'Braak_020' and 'RegioS'\n",
    "# (e.g., a correlation or aggregation)\n",
    "grouped = df.groupby('RegioS')['Braak_020'].mean()\n",
    "print(\"\\nMean 'Braak_020' by 'RegioS':\")\n",
    "print(grouped)"
   ],
   "id": "948d63c833b07ea0"
  },
  {
   "metadata": {},
   "cell_type": "code",
   "outputs": [],
   "execution_count": null,
   "source": [
    "import pandas as pd\n",
    "import geopandas as gpd\n",
    "import matplotlib.pyplot as plt"
   ],
   "id": "7940bf327d208c6c"
  },
  {
   "metadata": {},
   "cell_type": "code",
   "outputs": [],
   "execution_count": null,
   "source": [
    "gdf = gpd.read_file('geofile_NL.shp')\n",
    "\n",
    "merged = gdf.set_index('RegioS').join(df.set_index('RegioS'))\n",
    "\n",
    "# Plot the map\n",
    "fig, ax = plt.subplots(figsize=(10, 10))\n",
    "merged.plot(column='Braak_020', ax=ax, legend=True,\n",
    "            legend_kwds={'label': \"Braak_020 Value by Region\",\n",
    "                         'orientation': \"horizontal\"})\n",
    "\n",
    "# Title and labels\n",
    "ax.set_title('Braak_020 Values by Region in the Netherlands')\n",
    "plt.show()"
   ],
   "id": "3f45de8dc8b368e0"
  },
  {
   "metadata": {},
   "cell_type": "code",
   "outputs": [],
   "execution_count": null,
   "source": "",
   "id": "d100c412feac79f6"
  }
 ],
 "metadata": {
  "kernelspec": {
   "display_name": "Python 3",
   "language": "python",
   "name": "python3"
  },
  "language_info": {
   "codemirror_mode": {
    "name": "ipython",
    "version": 2
   },
   "file_extension": ".py",
   "mimetype": "text/x-python",
   "name": "python",
   "nbconvert_exporter": "python",
   "pygments_lexer": "ipython2",
   "version": "2.7.6"
  }
 },
 "nbformat": 4,
 "nbformat_minor": 5
}
